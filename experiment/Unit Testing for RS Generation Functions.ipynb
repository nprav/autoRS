{
 "cells": [
  {
   "cell_type": "markdown",
   "id": "332400ba",
   "metadata": {},
   "source": [
    "# Unit-testing for Response Spectrum Generation Functions\n",
    "*July 19th 2021*\n",
    "\n",
    "**Aim**\n",
    "- Generate test cases for the resp_spect functions.\n",
    "- Generate test case based on theoretical solution.\n",
    "- Generate test case based on time integration of random time history from test-resources.\n",
    "- Generate test case from SHAKE result (for step_resp_spect)."
   ]
  },
  {
   "cell_type": "markdown",
   "id": "e7a2b191",
   "metadata": {},
   "source": []
  }
 ],
 "metadata": {
  "kernelspec": {
   "display_name": "Python 3",
   "language": "python",
   "name": "python3"
  },
  "language_info": {
   "codemirror_mode": {
    "name": "ipython",
    "version": 3
   },
   "file_extension": ".py",
   "mimetype": "text/x-python",
   "name": "python",
   "nbconvert_exporter": "python",
   "pygments_lexer": "ipython3",
   "version": "3.8.8"
  }
 },
 "nbformat": 4,
 "nbformat_minor": 5
}
