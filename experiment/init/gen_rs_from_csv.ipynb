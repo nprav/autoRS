{
 "cells": [
  {
   "cell_type": "markdown",
   "id": "74944386-d07c-4960-bac2-b69acd28795e",
   "metadata": {},
   "source": [
    "# Experiment/Test gen_rs_from_csv Function in autoRS\n",
    "\n",
    "**Aim**\n",
    "- Document testing/debugging of the gen_rs_from_csv function\n",
    "- New sections will be added if and when new functionality must be included OR bugs are found"
   ]
  },
  {
   "cell_type": "markdown",
   "id": "efff00fe-4490-4165-a4b1-06d626ac0d67",
   "metadata": {},
   "source": [
    "### Import libraries"
   ]
  },
  {
   "cell_type": "code",
   "execution_count": 21,
   "id": "62ef9878-7c79-40c0-9c91-63a99e37775b",
   "metadata": {},
   "outputs": [],
   "source": [
    "# Standard library imports\n",
    "import os\n",
    "import re\n",
    "import sys\n",
    "import traceback\n",
    "from typing import Tuple, Callable, Dict, List\n",
    "\n",
    "# Third party imports\n",
    "import numpy as np\n",
    "from numpy.typing import ArrayLike"
   ]
  },
  {
   "cell_type": "markdown",
   "id": "3d1ff26a-bb89-4658-84fb-ea3912e4e487",
   "metadata": {},
   "source": [
    "### Global Variables"
   ]
  },
  {
   "cell_type": "code",
   "execution_count": 23,
   "id": "b6b816e6-d33e-48de-a400-88033bdf2ccc",
   "metadata": {},
   "outputs": [
    {
     "name": "stdout",
     "output_type": "stream",
     "text": [
      "['nan_slab_set3.csv', 'not_ahl_or_csv.a.txt', 'not_ahl_or_csv.txt.txt', 'plot-L1A1D1-1-BE Soil-acc_x4.ahl', 'single_col_acc.csv', 'soil_x_acc.csv', 'soil_z_acc.csv']\n"
     ]
    }
   ],
   "source": [
    "root_dir = os.path.abspath(\"../..\")\n",
    "test_rsrc_dir = os.path.join(root_dir, \"tests\", \"test_resources\")\n",
    "print(os.listdir(test_rsrc_dir))"
   ]
  },
  {
   "cell_type": "markdown",
   "id": "4939088b-6b2a-4939-81d8-3218cdcec686",
   "metadata": {},
   "source": [
    "### Dealing with NANs"
   ]
  },
  {
   "cell_type": "code",
   "execution_count": 25,
   "id": "efd55973-eeef-4a4b-94da-35abe14c7398",
   "metadata": {},
   "outputs": [],
   "source": [
    "th_path = os.path.join(test_rsrc_dir, \"nan_slab_set3.csv\")\n",
    "df_th = np.genfromtxt(\n",
    "        th_path,\n",
    "        delimiter=\",\",\n",
    "        skip_header=1,\n",
    "        names=True,\n",
    "        deletechars=\" !#$%&'()*+,-./:;<=>?[\\\\]^{|}~\",\n",
    "    )"
   ]
  },
  {
   "cell_type": "code",
   "execution_count": null,
   "id": "b9a233b4-0b06-46a7-9c7f-5ab70979eed7",
   "metadata": {},
   "outputs": [],
   "source": []
  }
 ],
 "metadata": {
  "kernelspec": {
   "display_name": "Python 3",
   "language": "python",
   "name": "python3"
  },
  "language_info": {
   "codemirror_mode": {
    "name": "ipython",
    "version": 3
   },
   "file_extension": ".py",
   "mimetype": "text/x-python",
   "name": "python",
   "nbconvert_exporter": "python",
   "pygments_lexer": "ipython3",
   "version": "3.8.11"
  }
 },
 "nbformat": 4,
 "nbformat_minor": 5
}
