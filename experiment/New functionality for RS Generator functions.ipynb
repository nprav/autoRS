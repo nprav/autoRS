{
 "cells": [
  {
   "cell_type": "markdown",
   "id": "3c18953e",
   "metadata": {},
   "source": [
    "# New Functionality for RS Generator Functions\n",
    "*August 20th 2021*\n",
    "\n",
    "**Aim**\n",
    "- Custom frequencies for the RS generation.\n",
    "- Include velocity and displacement outputs\n",
    "- Add a status bar"
   ]
  },
  {
   "cell_type": "code",
   "execution_count": null,
   "id": "c87dc60d",
   "metadata": {},
   "outputs": [],
   "source": []
  }
 ],
 "metadata": {
  "kernelspec": {
   "display_name": "Python 3",
   "language": "python",
   "name": "python3"
  },
  "language_info": {
   "codemirror_mode": {
    "name": "ipython",
    "version": 3
   },
   "file_extension": ".py",
   "mimetype": "text/x-python",
   "name": "python",
   "nbconvert_exporter": "python",
   "pygments_lexer": "ipython3",
   "version": "3.8.11"
  }
 },
 "nbformat": 4,
 "nbformat_minor": 5
}
