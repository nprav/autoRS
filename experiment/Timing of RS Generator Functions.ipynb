{
 "cells": [
  {
   "cell_type": "markdown",
   "id": "524b0869",
   "metadata": {},
   "source": [
    "# Timing of RS Generator Functions\n",
    "*July 19th 2021*\n",
    "\n",
    "**Aim**\n",
    "- Time `step_resp_spect` and `fft_resp_spect`.\n",
    "- Vary input time history size and number of frequencies for calculation.\n",
    "- Plot comparisons"
   ]
  },
  {
   "cell_type": "code",
   "execution_count": null,
   "id": "e6b80b25",
   "metadata": {},
   "outputs": [],
   "source": []
  }
 ],
 "metadata": {
  "kernelspec": {
   "display_name": "Python 3",
   "language": "python",
   "name": "python3"
  },
  "language_info": {
   "codemirror_mode": {
    "name": "ipython",
    "version": 3
   },
   "file_extension": ".py",
   "mimetype": "text/x-python",
   "name": "python",
   "nbconvert_exporter": "python",
   "pygments_lexer": "ipython3",
   "version": "3.8.8"
  }
 },
 "nbformat": 4,
 "nbformat_minor": 5
}
